{
 "cells": [
  {
   "cell_type": "markdown",
   "metadata": {
    "toc": true
   },
   "source": [
    "<h1>MỤC LỤC<span class=\"tocSkip\"></span></h1>\n",
    "<div class=\"toc\"><ul class=\"toc-item\"><li><span><a href=\"#Giới-thiệu-đề-tài\" data-toc-modified-id=\"Giới-thiệu-đề-tài-1\"><span class=\"toc-item-num\">1&nbsp;&nbsp;</span>Giới thiệu đề tài</a></span></li><li><span><a href=\"#Bài-toán-và-mô-tả-tập-dữ-liệu\" data-toc-modified-id=\"Bài-toán-và-mô-tả-tập-dữ-liệu-2\"><span class=\"toc-item-num\">2&nbsp;&nbsp;</span>Bài toán và mô tả tập dữ liệu</a></span><ul class=\"toc-item\"><li><span><a href=\"#Bài-toán\" data-toc-modified-id=\"Bài-toán-2.1\"><span class=\"toc-item-num\">2.1&nbsp;&nbsp;</span>Bài toán</a></span></li><li><span><a href=\"#Mô-tả-tập-dữ-liệu\" data-toc-modified-id=\"Mô-tả-tập-dữ-liệu-2.2\"><span class=\"toc-item-num\">2.2&nbsp;&nbsp;</span>Mô tả tập dữ liệu</a></span><ul class=\"toc-item\"><li><span><a href=\"#Input\" data-toc-modified-id=\"Input-2.2.1\"><span class=\"toc-item-num\">2.2.1&nbsp;&nbsp;</span>Input</a></span></li><li><span><a href=\"#Output\" data-toc-modified-id=\"Output-2.2.2\"><span class=\"toc-item-num\">2.2.2&nbsp;&nbsp;</span>Output</a></span></li></ul></li></ul></li><li><span><a href=\"#Thuật-toán\" data-toc-modified-id=\"Thuật-toán-3\"><span class=\"toc-item-num\">3&nbsp;&nbsp;</span>Thuật toán</a></span></li><li><span><a href=\"#Đánh-giá-mô-hình\" data-toc-modified-id=\"Đánh-giá-mô-hình-4\"><span class=\"toc-item-num\">4&nbsp;&nbsp;</span>Đánh giá mô hình</a></span><ul class=\"toc-item\"><li><span><a href=\"#Root-Mean-Square-Error-(RMSE):\" data-toc-modified-id=\"Root-Mean-Square-Error-(RMSE):-4.1\"><span class=\"toc-item-num\">4.1&nbsp;&nbsp;</span>Root Mean Square Error (RMSE):</a></span></li></ul></li><li><span><a href=\"#Cài-đặt-hàm-và-thư-viện-cần-thiết\" data-toc-modified-id=\"Cài-đặt-hàm-và-thư-viện-cần-thiết-5\"><span class=\"toc-item-num\">5&nbsp;&nbsp;</span>Cài đặt hàm và thư viện cần thiết</a></span></li><li><span><a href=\"#Chuẩn-bị-dữ-liệu-đầu-vào\" data-toc-modified-id=\"Chuẩn-bị-dữ-liệu-đầu-vào-6\"><span class=\"toc-item-num\">6&nbsp;&nbsp;</span>Chuẩn bị dữ liệu đầu vào</a></span></li><li><span><a href=\"#Exploratory-data-analysis-(EDA)\" data-toc-modified-id=\"Exploratory-data-analysis-(EDA)-7\"><span class=\"toc-item-num\">7&nbsp;&nbsp;</span>Exploratory data analysis (EDA)</a></span></li><li><span><a href=\"#Xây-dựng-mô-hình\" data-toc-modified-id=\"Xây-dựng-mô-hình-8\"><span class=\"toc-item-num\">8&nbsp;&nbsp;</span>Xây dựng mô hình</a></span><ul class=\"toc-item\"><li><span><a href=\"#Xây-dựng-mô-hình-Alternating-least-squares-chung\" data-toc-modified-id=\"Xây-dựng-mô-hình-Alternating-least-squares-chung-8.1\"><span class=\"toc-item-num\">8.1&nbsp;&nbsp;</span>Xây dựng mô hình Alternating least squares chung</a></span><ul class=\"toc-item\"><li><span><a href=\"#Xây-dựng-mô-hình\" data-toc-modified-id=\"Xây-dựng-mô-hình-8.1.1\"><span class=\"toc-item-num\">8.1.1&nbsp;&nbsp;</span>Xây dựng mô hình</a></span></li><li><span><a href=\"#Đánh-giá-mô-hình\" data-toc-modified-id=\"Đánh-giá-mô-hình-8.1.2\"><span class=\"toc-item-num\">8.1.2&nbsp;&nbsp;</span>Đánh giá mô hình</a></span></li></ul></li><li><span><a href=\"#Xây-dựng-và-đánh-giá-mô-hình-Alternating-least-squares-(tinh-chỉnh-các-siêu-tham-số-lần-1)\" data-toc-modified-id=\"Xây-dựng-và-đánh-giá-mô-hình-Alternating-least-squares-(tinh-chỉnh-các-siêu-tham-số-lần-1)-8.2\"><span class=\"toc-item-num\">8.2&nbsp;&nbsp;</span>Xây dựng và đánh giá mô hình Alternating least squares (tinh chỉnh các siêu tham số lần 1)</a></span></li><li><span><a href=\"#Xây-dựng-và-đánh-giá-mô-hình-Alternating-least-squares-(tinh-chỉnh-các-siêu-tham-số-lần-2)\" data-toc-modified-id=\"Xây-dựng-và-đánh-giá-mô-hình-Alternating-least-squares-(tinh-chỉnh-các-siêu-tham-số-lần-2)-8.3\"><span class=\"toc-item-num\">8.3&nbsp;&nbsp;</span>Xây dựng và đánh giá mô hình Alternating least squares (tinh chỉnh các siêu tham số lần 2)</a></span></li><li><span><a href=\"#Xây-dựng-và-đánh-giá-mô-hình-Alternating-least-squares-(tinh-chỉnh-các-siêu-tham-số-lần-3)\" data-toc-modified-id=\"Xây-dựng-và-đánh-giá-mô-hình-Alternating-least-squares-(tinh-chỉnh-các-siêu-tham-số-lần-3)-8.4\"><span class=\"toc-item-num\">8.4&nbsp;&nbsp;</span>Xây dựng và đánh giá mô hình Alternating least squares (tinh chỉnh các siêu tham số lần 3)</a></span></li><li><span><a href=\"#Xây-dựng-và-đánh-giá-mô-hình-Alternating-least-squares-(tinh-chỉnh-các-siêu-tham-số-lần-4)\" data-toc-modified-id=\"Xây-dựng-và-đánh-giá-mô-hình-Alternating-least-squares-(tinh-chỉnh-các-siêu-tham-số-lần-4)-8.5\"><span class=\"toc-item-num\">8.5&nbsp;&nbsp;</span>Xây dựng và đánh giá mô hình Alternating least squares (tinh chỉnh các siêu tham số lần 4)</a></span></li></ul></li><li><span><a href=\"#So-sánh-các-mô-hình\" data-toc-modified-id=\"So-sánh-các-mô-hình-9\"><span class=\"toc-item-num\">9&nbsp;&nbsp;</span>So sánh các mô hình</a></span></li><li><span><a href=\"#Triển-khai-mô-hình\" data-toc-modified-id=\"Triển-khai-mô-hình-10\"><span class=\"toc-item-num\">10&nbsp;&nbsp;</span>Triển khai mô hình</a></span></li><li><span><a href=\"#Một-số-đề-xuất-cụ-thể-cho-người-dùng-và-sách\" data-toc-modified-id=\"Một-số-đề-xuất-cụ-thể-cho-người-dùng-và-sách-11\"><span class=\"toc-item-num\">11&nbsp;&nbsp;</span>Một số đề xuất cụ thể cho người dùng và sách</a></span></li></ul></div>"
   ]
  },
  {
   "cell_type": "markdown",
   "metadata": {},
   "source": [
    "# CHƯƠNG 1\n",
    "# TỔNG QUAN VỀ ĐỀ TÀI"
   ]
  },
  {
   "cell_type": "markdown",
   "metadata": {},
   "source": [
    "## Giới thiệu đề tài"
   ]
  },
  {
   "cell_type": "markdown",
   "metadata": {},
   "source": [
    "Hệ thống gợi ý là một phương tiện có giá trị giúp giải quyết vấn đề tìm kiếm và chắt lọc thông tin. Mục đích cuối cùng mà hệ thống gợi ý hướng tới là “mang đến” cho người dùng những sản phẩm họ thích trong hàng ngàn sản phẩm cùng loại trong hệ thống, những sản phẩm mà người dùng chưa xem hoặc không xem nhưng lại đang liên quan đến những tác vụ tìm kiếm hiện tại của người dùng. Các sản phẩm gợi ý dựa trên số lượng sản phẩm đã bán, dựa trên thông tin cá nhân người dùng, dựa trên sự phân tích hành vi mua hàng trước đó của người sử dụng để đưa ra các dự đoán về hành vi mua hàng trong tương lai của người dùng đó. Nổi bật trong số đó là thuật toán Alternating Least Squares trong kỹ thuật phân rã ma trận\n",
    "\n",
    "Thực tế có rất nhiều sản phẩm, dịch vụ cần được gợi ý đến nhu cầu của từng người dùng, đặc biệt là sách. Sách là một kho tàng tri thức khổng lồ với hàng trăm triệu cuốn sách khác nhau. Để tìm được các cuốn sách ưng ý và phù hợp với nhu cầu của mỗi người dùng không phải là chuyện dễ dàng. Vì thế nhóm chúng tôi đã lựa chọn đề tài “Recommendation system using Alternating least squares pyspark” để gợi ý sách.\n"
   ]
  },
  {
   "cell_type": "markdown",
   "metadata": {},
   "source": [
    "## Bài toán và mô tả tập dữ liệu"
   ]
  },
  {
   "cell_type": "markdown",
   "metadata": {},
   "source": [
    "### Bài toán"
   ]
  },
  {
   "cell_type": "markdown",
   "metadata": {},
   "source": [
    "   Bài toán của hệ thống gợi ý sách đơn giản là sẽ gợi ý những cuốn sách tốt nhất mà người dùng có thể thích hoặc đang quan tâm từ hàng ngàn cuốn sách trong hệ thống. Trong đề tài này, chúng tôi sẽ tiến hành thực nghiệm việc áp dụng Spark Mlib để gợi ý sách."
   ]
  },
  {
   "cell_type": "markdown",
   "metadata": {},
   "source": [
    "### Mô tả tập dữ liệu"
   ]
  },
  {
   "cell_type": "markdown",
   "metadata": {},
   "source": [
    "#### Input"
   ]
  },
  {
   "cell_type": "markdown",
   "metadata": {},
   "source": [
    "Tập ratings.csv gồm các thông tin sau:\n",
    "- book_id: Mã id của sách.\n",
    "- user_id: Mã id của người đọc sách.\n",
    "- rating: Xếp hạng (đánh giá) của người dùng cho sách.\n",
    "\n",
    "Train và Test data: được split random theo tỉ lệ 80% - 20% từ ratings.csv.\n",
    "\n",
    "Tập to_read.csv gồm các thông tin sau:\n",
    "- book_id: Mã id của sách.\n",
    "- user_id: Mã id của người đọc sách.\n",
    "\n",
    "Bảng dữ liệu to_read.csv sẽ chứa thông tin về những cuốn sách mà người đọc đã chọn “Tôi sẽ đọc”.\n",
    "\n",
    "Tập book.csv gồm các thông tin: id, book_id, best_book_id, work_id, books_count, isbn, isbn13, authors, original_publication_year, original_title, title, language_code, average_rating, ratings_count,work_ratings_count, ratings_1,ratings_2,ratings_3,ratings_4,ratings_5, work_text_reviews_count, image_url, small_image_url.\n",
    "\n",
    "Vì có khá nhiều dữ liệu nhưng chúng tôi chỉ sài một vài dữ liệu trong book.csv như:\n",
    "- book_id: Mã id của sách\n",
    "- image_url: Đường dẫn hình ảnh bìa sách\n"
   ]
  },
  {
   "cell_type": "markdown",
   "metadata": {},
   "source": [
    "#### Output"
   ]
  },
  {
   "cell_type": "markdown",
   "metadata": {},
   "source": [
    "Đề xuất 10 tựa sách cho tất cả các user.\n",
    "\n",
    "Để dữ liệu đầu ra được chính xác hơn, ta nối trái với dữ liệu vừa tìm được với bảng ratings để chọn ra những đầu sách mà người đọc chưa đọc.\n",
    "\n",
    "Tiếp tục nối dữ liệu mới nhất với bảng to_read để dự đoán những đầu sách chính xác nhất.\n",
    "\n",
    "Một số đề xuất cụ thể cho cả user và book trong hệ thống."
   ]
  },
  {
   "cell_type": "markdown",
   "metadata": {},
   "source": [
    "## Thuật toán"
   ]
  },
  {
   "cell_type": "markdown",
   "metadata": {},
   "source": [
    "Để thực hiện bài toán, nhóm chúng tối dùng thuật toán Alternating least squares sử dụng thư viện spark.\n",
    "\n",
    "Alternating least squares (ALS) hay còn gọi là phương pháp bình phương tối thiểu thay phiên nhau. Trong hàm mất mát của ALS 2 biến tối ưu là Q và P. Bởi hàm mất mát có 2 biến nên khiến hàm không lồi (khó tìm cực tiểu). Vì vậy ý tưởng của thuật toán ALS là thay phiên cố định 1 biến rồi tối ưu hàm theo biến còn lại. Khi cố định 1 biến hàm sẽ trở thành hàm bậc 2 và dễ dàng tính toán bằng phương pháp bình phương tối thiểu. Ta thực hiện lần lượt việc cố định 1 biến rồi tính toán lại biến còn lại cho đến khi các điểm hội tụ lại tại điểm cực tiểu."
   ]
  },
  {
   "cell_type": "markdown",
   "metadata": {},
   "source": [
    "\\begin{equation}\n",
    "\\min _{q_{i}, p_{u}} \\sum_{(u, i) \\in K}\\left(r_{u} i-q_{i}^{T} p_{u}\\right)^{2}+\\lambda\\left(\\left\\|q_{i}\\right\\|^{2}+\\left\\|p_{u}\\right\\|^{2}\\right)\n",
    "\\end{equation}"
   ]
  },
  {
   "cell_type": "markdown",
   "metadata": {},
   "source": [
    "Trong đó:\n",
    "- $q_{i}$ đánh giá những yếu tố tiềm ẩn mà item i sở hữu.\n",
    "- $p_{u}$ đánh giá những yếu tố tiềm ẩn mà user u sở hữu."
   ]
  },
  {
   "cell_type": "markdown",
   "metadata": {},
   "source": [
    "## Đánh giá mô hình"
   ]
  },
  {
   "cell_type": "markdown",
   "metadata": {},
   "source": [
    "### Root Mean Square Error (RMSE):"
   ]
  },
  {
   "cell_type": "markdown",
   "metadata": {},
   "source": [
    "Lỗi trung bình bình phương gốc (RMSE) là thước đo mức độ hiệu quả của mô hình của bạn. Nó thực hiện điều này bằng cách đo sự khác biệt giữa các giá trị dự đoán và giá trị thực tế . R-MSE càng nhỏ tức là sai số càng bé thì mức độ ước lượng cho thấy độ tin cậy của mô hình có thể đạt cao nhất."
   ]
  },
  {
   "cell_type": "markdown",
   "metadata": {},
   "source": [
    "\\begin{equation}\n",
    "R M S E=\\sqrt{\\sum_{i=1}^{n} \\frac{\\left(\\hat{y}_{i}-y_{i}\\right)^{2}}{n}}\n",
    "\\end{equation}"
   ]
  },
  {
   "cell_type": "markdown",
   "metadata": {},
   "source": [
    "Với:\n",
    "- $\\hat{y}_{i}$: là giá trị dự đoán\n",
    "- $y_{i}$ là giá trị thực tế\n",
    "- n là tổng lượng quan sát"
   ]
  },
  {
   "cell_type": "markdown",
   "metadata": {},
   "source": [
    "Giá trị bình phương trung bình lỗi lấy căn thường xuyên được sử dụng trong đánh giá độ khớp của mô hình so với dữ liệu huấn luyện. Được tính bằng căn bậc hai của giá trị tuyệt đối của hệ số tương quan giữa giá trị thực và giá trị dự đoán."
   ]
  },
  {
   "cell_type": "markdown",
   "metadata": {},
   "source": [
    "# CHƯƠNG 2"
   ]
  },
  {
   "cell_type": "markdown",
   "metadata": {},
   "source": [
    "# XÂY DựNG MÔ HÌNH"
   ]
  },
  {
   "cell_type": "markdown",
   "metadata": {},
   "source": [
    "## Cài đặt hàm và thư viện cần thiết"
   ]
  },
  {
   "cell_type": "code",
   "execution_count": 1,
   "metadata": {},
   "outputs": [],
   "source": [
    "import os\n",
    "import pandas as pd\n",
    "import numpy as np\n",
    "\n",
    "# PySpark\n",
    "from pyspark import SparkContext\n",
    "from pyspark.sql import SparkSession\n",
    "\n",
    "# Exploratory Data Analysis (EDA)\n",
    "from pyspark.sql.functions import col, min, max, avg, lit\n",
    "\n",
    "# Machine Learning (ML)\n",
    "from pyspark.ml.recommendation import ALS # Alternating Least Squares model\n",
    "from pyspark.ml.evaluation import RegressionEvaluator # Performance metric\n",
    "\n",
    "# Visualization\n",
    "import seaborn as sns\n",
    "import matplotlib.pyplot as plt\n",
    "\n",
    "from IPython.core.interactiveshell import InteractiveShell\n",
    "InteractiveShell.ast_node_interactivity = \"all\"\n",
    "\n",
    "pd.set_option('display.max_columns', 200)\n",
    "pd.set_option('display.max_colwidth', 400)\n",
    "\n",
    "from matplotlib import rcParams\n",
    "sns.set(context='notebook', style='whitegrid', rc={'figure.figsize': (18,4)})\n",
    "rcParams['figure.figsize'] = 18,4\n",
    "\n",
    "%matplotlib inline\n",
    "%config InlineBackend.figure_format = 'retina'\n",
    "\n",
    "# Setting random seed for reproducability\n",
    "SEED = 23\n",
    "np.random.seed = SEED\n",
    "np.random.set_state = SEED"
   ]
  },
  {
   "cell_type": "code",
   "execution_count": 2,
   "metadata": {},
   "outputs": [
    {
     "name": "stdout",
     "output_type": "stream",
     "text": [
      "<SparkContext master=local[*] appName=Book-Recommendation>\n"
     ]
    }
   ],
   "source": [
    "sc = SparkContext(appName = \"Book-Recommendation\")\n",
    "print(sc)"
   ]
  },
  {
   "cell_type": "code",
   "execution_count": 3,
   "metadata": {},
   "outputs": [
    {
     "name": "stdout",
     "output_type": "stream",
     "text": [
      "<pyspark.sql.session.SparkSession object at 0x0000014CC185BCD0>\n"
     ]
    }
   ],
   "source": [
    "spark = SparkSession.Builder().getOrCreate()\n",
    "print(spark)"
   ]
  },
  {
   "cell_type": "markdown",
   "metadata": {},
   "source": [
    "## Chuẩn bị dữ liệu đầu vào"
   ]
  },
  {
   "cell_type": "markdown",
   "metadata": {},
   "source": [
    "Chúng tôi tiến hành load 2 tập dữ liệu là ratings.csv và to_read.csv vào dataframe (Thay đổi đường dẫn tùy vào máy mỗi người sử dụng)."
   ]
  },
  {
   "cell_type": "code",
   "execution_count": 4,
   "metadata": {},
   "outputs": [
    {
     "name": "stdout",
     "output_type": "stream",
     "text": [
      "<class 'pyspark.sql.dataframe.DataFrame'>\n"
     ]
    }
   ],
   "source": [
    "# Đọc file csv vào dataframe\n",
    "ratings = spark.read.csv('D:\\MLFINAL/ratings.csv',\n",
    "                         header = True, #sử dụng dòng đầu tiên làm tiêu đề\n",
    "                         inferSchema=True) #tự suy ra các loại dữ liệu\n",
    "print(type(ratings))"
   ]
  },
  {
   "cell_type": "code",
   "execution_count": 5,
   "metadata": {},
   "outputs": [
    {
     "name": "stdout",
     "output_type": "stream",
     "text": [
      "<class 'pyspark.sql.dataframe.DataFrame'>\n"
     ]
    }
   ],
   "source": [
    "to_read = spark.read.csv('D:\\MLFINAL/to_read.csv',\n",
    "                         header = True,\n",
    "                         inferSchema=True)\n",
    "print(type(to_read))"
   ]
  },
  {
   "cell_type": "markdown",
   "metadata": {},
   "source": [
    "Kiểm tra thuộc tính của các cột trong dataframe và kiểm tra các cột nào có giá trị bị thiếu (null) trên tập ratings."
   ]
  },
  {
   "cell_type": "code",
   "execution_count": 6,
   "metadata": {},
   "outputs": [
    {
     "name": "stdout",
     "output_type": "stream",
     "text": [
      "root\n",
      " |-- book_id: integer (nullable = true)\n",
      " |-- user_id: integer (nullable = true)\n",
      " |-- rating: integer (nullable = true)\n",
      "\n"
     ]
    }
   ],
   "source": [
    "ratings.printSchema()"
   ]
  },
  {
   "cell_type": "markdown",
   "metadata": {},
   "source": [
    "Chúng tôi chuyển đổi thuộc tính cột rating từ integer về double cho dễ dàng xử lý dữ liệu."
   ]
  },
  {
   "cell_type": "code",
   "execution_count": 7,
   "metadata": {},
   "outputs": [
    {
     "name": "stdout",
     "output_type": "stream",
     "text": [
      "root\n",
      " |-- user_id: integer (nullable = true)\n",
      " |-- book_id: integer (nullable = true)\n",
      " |-- rating: double (nullable = true)\n",
      "\n"
     ]
    }
   ],
   "source": [
    "ratings = ratings.select(ratings.user_id,\n",
    "                         ratings.book_id,\n",
    "                         ratings.rating.cast(\"double\"))\n",
    "ratings.printSchema()"
   ]
  },
  {
   "cell_type": "markdown",
   "metadata": {},
   "source": [
    "## Exploratory data analysis (EDA)"
   ]
  },
  {
   "cell_type": "markdown",
   "metadata": {},
   "source": [
    "Chúng tôi in ra 10 dòng dữ liệu để kiểm tra những dữ liệu đã có trong tập ratings.csv"
   ]
  },
  {
   "cell_type": "code",
   "execution_count": 8,
   "metadata": {},
   "outputs": [
    {
     "name": "stdout",
     "output_type": "stream",
     "text": [
      "+-------+-------+------+\n",
      "|user_id|book_id|rating|\n",
      "+-------+-------+------+\n",
      "|    314|      1|   5.0|\n",
      "|    439|      1|   3.0|\n",
      "|    588|      1|   5.0|\n",
      "|   1169|      1|   4.0|\n",
      "|   1185|      1|   4.0|\n",
      "|   2077|      1|   4.0|\n",
      "|   2487|      1|   4.0|\n",
      "|   2900|      1|   5.0|\n",
      "|   3662|      1|   4.0|\n",
      "|   3922|      1|   5.0|\n",
      "+-------+-------+------+\n",
      "only showing top 10 rows\n",
      "\n",
      "None\n"
     ]
    }
   ],
   "source": [
    "#in ra 10 dòng trong tập dữ liệu ratings\n",
    "print(ratings.show(n = 10))"
   ]
  },
  {
   "cell_type": "markdown",
   "metadata": {},
   "source": [
    "Chúng tôi sẽ tính toán tỉ lệ các ô trống (Sparsity) trong ma trận."
   ]
  },
  {
   "cell_type": "code",
   "execution_count": 9,
   "metadata": {},
   "outputs": [
    {
     "name": "stdout",
     "output_type": "stream",
     "text": [
      "The ratings dataframe is  99.82% empty.\n"
     ]
    }
   ],
   "source": [
    "# Đếm tổng số xếp hạng trong tập dữ liệu ratings\n",
    "numerator = ratings.select(\"rating\").count()\n",
    "\n",
    "# Đếm các id (book và user) riêng biệt\n",
    "num_users = ratings.select(\"user_id\").distinct().count()\n",
    "num_items = ratings.select(\"book_id\").distinct().count()\n",
    "\n",
    "# Tính toán mẫu số\n",
    "denominator = num_users * num_items\n",
    "\n",
    "# Tính toán tỉ lệ thưa thớt trong ma trận\n",
    "sparsity = (1.0 - (numerator * 1.0)/ denominator) * 100\n",
    "print(\"The ratings dataframe is \", \"%.2f\" % sparsity + \"% empty.\")"
   ]
  },
  {
   "cell_type": "markdown",
   "metadata": {},
   "source": [
    "Nhìn vào kết quả ta có thể nhận thấy, hầu như ma trận hoàn toàn trống rỗng (99.82%)."
   ]
  },
  {
   "cell_type": "markdown",
   "metadata": {},
   "source": [
    "Tiếp theo, ta tiến hành nhóm các dữ liệu user_id và đếm số lượng rating (làm tương tự với book_id)"
   ]
  },
  {
   "cell_type": "code",
   "execution_count": 10,
   "metadata": {},
   "outputs": [
    {
     "name": "stdout",
     "output_type": "stream",
     "text": [
      "+-------+-----+\n",
      "|user_id|count|\n",
      "+-------+-----+\n",
      "|  12874|  200|\n",
      "|  30944|  200|\n",
      "|  12381|  199|\n",
      "|  28158|  199|\n",
      "|  52036|  199|\n",
      "|  45554|  197|\n",
      "|   6630|  197|\n",
      "|  37834|  197|\n",
      "|  15604|  196|\n",
      "|   9806|  196|\n",
      "+-------+-----+\n",
      "only showing top 10 rows\n",
      "\n"
     ]
    }
   ],
   "source": [
    "# Nhóm user_id, đếm rating\n",
    "(ratings.groupBy(\"user_id\")\n",
    "    .count()\n",
    "    .filter(\"`count` > 1\")\n",
    "    .sort(col(\"count\").desc())\n",
    "    .show(n = 10))"
   ]
  },
  {
   "cell_type": "code",
   "execution_count": 11,
   "metadata": {},
   "outputs": [
    {
     "name": "stdout",
     "output_type": "stream",
     "text": [
      "+-------+-----+\n",
      "|book_id|count|\n",
      "+-------+-----+\n",
      "|    148|  100|\n",
      "|    463|  100|\n",
      "|    471|  100|\n",
      "|    496|  100|\n",
      "|    833|  100|\n",
      "|   1088|  100|\n",
      "|   1238|  100|\n",
      "|   1342|  100|\n",
      "|   1580|  100|\n",
      "|   1591|  100|\n",
      "+-------+-----+\n",
      "only showing top 10 rows\n",
      "\n"
     ]
    }
   ],
   "source": [
    "# Nhóm book_id, đếm rating\n",
    "(ratings.groupBy(\"book_id\")\n",
    "    .count()\n",
    "    .filter(\"`count` > 1\")\n",
    "    .sort(col(\"count\").desc())\n",
    "    .show(n = 10))"
   ]
  },
  {
   "cell_type": "markdown",
   "metadata": {},
   "source": [
    "Tóm tắt các thống kê của tập dữ liệu ratings để chúng ta có cái nhìn trực quan hơn về tập dữ liệu."
   ]
  },
  {
   "cell_type": "code",
   "execution_count": 12,
   "metadata": {},
   "outputs": [
    {
     "name": "stdout",
     "output_type": "stream",
     "text": [
      "Item with the fewest ratings: \n",
      "+----------+\n",
      "|min(count)|\n",
      "+----------+\n",
      "|         8|\n",
      "+----------+\n",
      "\n"
     ]
    }
   ],
   "source": [
    "# Số lượng xếp hạng nhỏ nhất cho item\n",
    "print(\"Item with the fewest ratings: \")\n",
    "ratings.groupBy(\"book_id\").count().select(min(\"count\")).show()"
   ]
  },
  {
   "cell_type": "code",
   "execution_count": 13,
   "metadata": {},
   "outputs": [
    {
     "name": "stdout",
     "output_type": "stream",
     "text": [
      "Avg num ratings per item: \n",
      "+----------+\n",
      "|avg(count)|\n",
      "+----------+\n",
      "|   98.1756|\n",
      "+----------+\n",
      "\n"
     ]
    }
   ],
   "source": [
    "# Xếp hạng trung bình trên mỗi item\n",
    "print(\"Avg num ratings per item: \")\n",
    "ratings.groupBy(\"book_id\").count().select(avg(\"count\")).show()"
   ]
  },
  {
   "cell_type": "code",
   "execution_count": 14,
   "metadata": {
    "scrolled": true
   },
   "outputs": [
    {
     "name": "stdout",
     "output_type": "stream",
     "text": [
      "User with the fewest ratings: \n",
      "+----------+\n",
      "|min(count)|\n",
      "+----------+\n",
      "|         2|\n",
      "+----------+\n",
      "\n"
     ]
    }
   ],
   "source": [
    "# Số lượng xếp hạng nhỏ nhất cho user\n",
    "print(\"User with the fewest ratings: \")\n",
    "ratings.groupBy(\"user_id\").count().select(min(\"count\")).show()"
   ]
  },
  {
   "cell_type": "code",
   "execution_count": 15,
   "metadata": {},
   "outputs": [
    {
     "name": "stdout",
     "output_type": "stream",
     "text": [
      "Avg num ratings per user: \n",
      "+------------------+\n",
      "|        avg(count)|\n",
      "+------------------+\n",
      "|18.376684636118597|\n",
      "+------------------+\n",
      "\n"
     ]
    }
   ],
   "source": [
    "# Xếp hạng trung bình trên mỗi user\n",
    "print(\"Avg num ratings per user: \")\n",
    "ratings.groupBy(\"user_id\").count().select(avg(\"count\")).show()"
   ]
  },
  {
   "cell_type": "markdown",
   "metadata": {},
   "source": [
    "## Xây dựng mô hình"
   ]
  },
  {
   "cell_type": "markdown",
   "metadata": {},
   "source": [
    "Chúng tôi tiến hành chia tập ratings.csv thành hai tập train và test trước khi vào xây dựng mô hình.\n",
    "- Tập train: 80%\n",
    "- Tập test: 20%"
   ]
  },
  {
   "cell_type": "code",
   "execution_count": 16,
   "metadata": {},
   "outputs": [],
   "source": [
    "# Chia ratings thành 2 tập train và test  với tỉ lệ 80% và 20%.\n",
    "train, test = ratings.randomSplit([.8, .2])"
   ]
  },
  {
   "cell_type": "markdown",
   "metadata": {},
   "source": [
    "### Xây dựng mô hình Alternating least squares chung"
   ]
  },
  {
   "cell_type": "markdown",
   "metadata": {},
   "source": [
    "#### Xây dựng mô hình"
   ]
  },
  {
   "cell_type": "markdown",
   "metadata": {},
   "source": [
    "Chúng tôi xây dựng mô hình Alternating least squares (không có các siêu tham số) từ tập train và kiểm tra kết quả mô hình ở tập test."
   ]
  },
  {
   "cell_type": "code",
   "execution_count": 17,
   "metadata": {},
   "outputs": [],
   "source": [
    "# Xây dựng mô hình ALS, không có các siêu tham số\n",
    "als = ALS(userCol=\"user_id\", itemCol=\"book_id\", ratingCol=\"rating\", \n",
    "          nonnegative = True, # Phân tích ma trận thành nhân tử không âm\n",
    "          coldStartStrategy = \"drop\", # Xóa đi những người dùng mới không xuất hiện trên train và test\n",
    "          implicitPrefs = False) # Hủy những dữ liệu không rõ ràng\n",
    "als_model = als.fit(train)\n",
    "\n",
    "#Áp dụng mô hình ở tập test để kiểm tra\n",
    "test_pred = als_model.transform(test)"
   ]
  },
  {
   "cell_type": "code",
   "execution_count": 18,
   "metadata": {},
   "outputs": [
    {
     "data": {
      "text/plain": [
       "pyspark.ml.recommendation.ALS"
      ]
     },
     "execution_count": 18,
     "metadata": {},
     "output_type": "execute_result"
    }
   ],
   "source": [
    "# Xác nhận mô hình als đã được tạo\n",
    "type(als)"
   ]
  },
  {
   "cell_type": "markdown",
   "metadata": {},
   "source": [
    "Sau khi áp dụng mô hình lên tập test, ta xem kết quả các dự đoán (n=10)"
   ]
  },
  {
   "cell_type": "code",
   "execution_count": 19,
   "metadata": {},
   "outputs": [
    {
     "name": "stdout",
     "output_type": "stream",
     "text": [
      "+-------+-------+------+----------+\n",
      "|user_id|book_id|rating|prediction|\n",
      "+-------+-------+------+----------+\n",
      "|  28767|    148|   3.0| 3.0026605|\n",
      "|  24326|    148|   5.0| 3.4562576|\n",
      "|  18313|    148|   4.0| 3.2681909|\n",
      "|   5461|    148|   4.0| 3.6424634|\n",
      "|  13407|    148|   4.0| 3.8904939|\n",
      "|  50999|    148|   3.0| 3.3447177|\n",
      "|  22534|    148|   4.0|  3.395548|\n",
      "|   5885|    148|   4.0| 3.3181143|\n",
      "|   9246|    148|   3.0| 2.7905517|\n",
      "|  21658|    148|   4.0|    3.2999|\n",
      "+-------+-------+------+----------+\n",
      "only showing top 10 rows\n",
      "\n"
     ]
    }
   ],
   "source": [
    "# Xem kết quả các dự đoán \n",
    "test_pred.show(n = 10)"
   ]
  },
  {
   "cell_type": "markdown",
   "metadata": {},
   "source": [
    "Hình trên mô tả id của user và book, rating là chỉ số xếp hạng thực tế của người dùng cho cuốn sách đó. Prediction là nhãn mà mô hình dự đoán.\n",
    "Ví dụ: người dùng có id là 28767 xếp hạng cho sách có id là 148 với xếp hạng thực tế là 3.0. Mô hình dự đoán xếp hạng của người dùng cho sách là 3.0026605. Có thể nhận thấy xếp hạng thực tế và dự đoán khá trùng khớp (Có thể thay đổi khi mọi người chạy lại lệnh này vì sẽ lấy random 10 người nên kết quả có thể bị thay đổi)."
   ]
  },
  {
   "cell_type": "markdown",
   "metadata": {},
   "source": [
    "#### Đánh giá mô hình"
   ]
  },
  {
   "cell_type": "markdown",
   "metadata": {},
   "source": [
    "Đánh giá mô hình bằng cách tính giá trị Root-mean-square error (RMSE). Giá trị này là độ chênh lệch giữa giá trị dự đoán và thực tế. Giá trị càng nhỏ thì mô hình càng hiệu quả."
   ]
  },
  {
   "cell_type": "code",
   "execution_count": 20,
   "metadata": {},
   "outputs": [
    {
     "name": "stdout",
     "output_type": "stream",
     "text": [
      "Root-mean-square error = 0.9185619748126058\n"
     ]
    }
   ],
   "source": [
    "# Tính RMSE trên test_pred\n",
    "evaluator = RegressionEvaluator(metricName = \"rmse\", \n",
    "                                labelCol = \"rating\", \n",
    "                                predictionCol = \"prediction\")\n",
    "rmse = evaluator.evaluate(test_pred)\n",
    "print(\"Root-mean-square error = \" + str(rmse))"
   ]
  },
  {
   "cell_type": "markdown",
   "metadata": {},
   "source": [
    "RMSE trả về giá trị khoảng 0.91. Điều này cho thấy mô hình khá tốt, nhưng đây chỉ là mô hình chung của ALS, chưa có các siêu tham số, chúng tôi sẽ tiếp tục xây dựng thêm các mô hình có siêu tham số và tinh chỉnh các siêu tham số sao cho mô hình được tốt nhất."
   ]
  },
  {
   "cell_type": "markdown",
   "metadata": {},
   "source": [
    "### Xây dựng và đánh giá mô hình Alternating least squares (tinh chỉnh các siêu tham số lần 1)"
   ]
  },
  {
   "cell_type": "markdown",
   "metadata": {},
   "source": [
    "Để xây dựng mô hình Alternating least squares với các siêu tham số, ta cần quan tâm đến 3 tham số:\n",
    "- maxIter: là số lần lặp tối đa để chạy (mặc định là 10).\n",
    "- regParam chỉ định tham số chính quy hóa trong ALS (mặc định là 1.0).\n",
    "- rank: là số lượng các yếu tố tiềm ẩn trong mô hình (mặc định là 10)."
   ]
  },
  {
   "cell_type": "code",
   "execution_count": 27,
   "metadata": {},
   "outputs": [
    {
     "name": "stdout",
     "output_type": "stream",
     "text": [
      "Root-mean-square error = 0.9005038113166655\n"
     ]
    }
   ],
   "source": [
    "# Xây dựng mô hình ALS, tinh chỉnh các siêu tham số lần 1\n",
    "als = ALS(maxIter=15, regParam=0.1, rank=10, userCol=\"user_id\", itemCol=\"book_id\", ratingCol=\"rating\")\n",
    "model = als.fit(train)\n",
    "predictions = model.transform(test)\n",
    "new_predictions = predictions.filter(col('prediction') != np.nan)\n",
    "evaluator = RegressionEvaluator(metricName=\"rmse\", labelCol=\"rating\", predictionCol=\"prediction\")\n",
    "rmse = evaluator.evaluate(new_predictions)\n",
    "print(\"Root-mean-square error = \" + str(rmse))"
   ]
  },
  {
   "cell_type": "markdown",
   "metadata": {},
   "source": [
    "Chúng tôi điều chỉnh lần lượt maxIter=15, regParam=0.1, rank=10 và nhận được RMSE là khoảng 0.9. RMSE đã giảm so với mô hình ALS chung nhưng vẫn chưa tốt nhất."
   ]
  },
  {
   "cell_type": "markdown",
   "metadata": {},
   "source": [
    "### Xây dựng và đánh giá mô hình Alternating least squares (tinh chỉnh các siêu tham số lần 2)"
   ]
  },
  {
   "cell_type": "code",
   "execution_count": 37,
   "metadata": {},
   "outputs": [
    {
     "name": "stdout",
     "output_type": "stream",
     "text": [
      "Root-mean-square error = 0.8750651630605232\n"
     ]
    }
   ],
   "source": [
    "# Xây dựng mô hình ALS, tinh chỉnh các siêu tham số lần 2\n",
    "als = ALS(maxIter=10, regParam=0.2, rank=8, userCol=\"user_id\", itemCol=\"book_id\", ratingCol=\"rating\")\n",
    "model = als.fit(train)\n",
    "predictions = model.transform(test)\n",
    "new_predictions = predictions.filter(col('prediction') != np.nan)\n",
    "evaluator = RegressionEvaluator(metricName=\"rmse\", labelCol=\"rating\", predictionCol=\"prediction\")\n",
    "rmse = evaluator.evaluate(new_predictions)\n",
    "print(\"Root-mean-square error = \" + str(rmse))"
   ]
  },
  {
   "cell_type": "markdown",
   "metadata": {},
   "source": [
    "Với maxIter=10, regParam=0.2, rank=8, ta nhận được RMSE khoảng 0.875."
   ]
  },
  {
   "cell_type": "markdown",
   "metadata": {},
   "source": [
    "### Xây dựng và đánh giá mô hình Alternating least squares (tinh chỉnh các siêu tham số lần 3)"
   ]
  },
  {
   "cell_type": "code",
   "execution_count": 38,
   "metadata": {},
   "outputs": [
    {
     "name": "stdout",
     "output_type": "stream",
     "text": [
      "Root-mean-square error = 0.8733854939189009\n"
     ]
    }
   ],
   "source": [
    "# Xây dựng mô hình ALS, tinh chỉnh các siêu tham số lần 3\n",
    "als = ALS(maxIter=10, regParam=0.2, rank=5, userCol=\"user_id\", itemCol=\"book_id\", ratingCol=\"rating\")\n",
    "model = als.fit(train)\n",
    "predictions = model.transform(test)\n",
    "new_predictions = predictions.filter(col('prediction') != np.nan)\n",
    "evaluator = RegressionEvaluator(metricName=\"rmse\", labelCol=\"rating\", predictionCol=\"prediction\")\n",
    "rmse = evaluator.evaluate(new_predictions)\n",
    "print(\"Root-mean-square error = \" + str(rmse))"
   ]
  },
  {
   "cell_type": "markdown",
   "metadata": {},
   "source": [
    "Với maxIter=10, regParam=0.2, rank=5, ta nhận được RMSE khoảng 0.873."
   ]
  },
  {
   "cell_type": "markdown",
   "metadata": {},
   "source": [
    "### Xây dựng và đánh giá mô hình Alternating least squares (tinh chỉnh các siêu tham số lần 4)"
   ]
  },
  {
   "cell_type": "code",
   "execution_count": 39,
   "metadata": {},
   "outputs": [
    {
     "name": "stdout",
     "output_type": "stream",
     "text": [
      "Root-mean-square error = 0.8725672296920765\n"
     ]
    }
   ],
   "source": [
    "# Xây dựng mô hình ALS, tinh chỉnh các siêu tham số lần 4\n",
    "final_als = ALS(maxIter=10, regParam=0.2, rank=4, userCol=\"user_id\", itemCol=\"book_id\", ratingCol=\"rating\")\n",
    "final_model = final_als.fit(train)\n",
    "predictions = final_model.transform(test)\n",
    "new_predictions = predictions.filter(col('prediction') != np.nan)\n",
    "evaluator = RegressionEvaluator(metricName=\"rmse\", labelCol=\"rating\", predictionCol=\"prediction\")\n",
    "rmse = evaluator.evaluate(new_predictions)\n",
    "print(\"Root-mean-square error = \" + str(rmse))"
   ]
  },
  {
   "cell_type": "markdown",
   "metadata": {},
   "source": [
    "Với maxIter=10, regParam=0.2, rank=4, ta nhận được RMSE khoảng 0.872."
   ]
  },
  {
   "cell_type": "markdown",
   "metadata": {},
   "source": [
    "## So sánh các mô hình"
   ]
  },
  {
   "cell_type": "markdown",
   "metadata": {},
   "source": [
    " Mô hình:                                        RMSE\n",
    "\n",
    "Alternating least squares chung:                 0.9186\n",
    "\n",
    "Alternating least squares (tinh chỉnh lần 1):    0.9005\n",
    "\n",
    "Alternating least squares (tinh chỉnh lần 2):    0.8751\n",
    "\n",
    "Alternating least squares (tinh chỉnh lần 3):    0.8734\n",
    "\n",
    "Alternating least squares (tinh chỉnh lần 4):    0.8726\n"
   ]
  },
  {
   "cell_type": "markdown",
   "metadata": {},
   "source": [
    "Nhận xét: Từ các giá trị RMSE đã tính được từ 5 mô hình ALS trên, ta nhận thấy mô hình ALS (tinh chỉnh lần 4) là tốt nhất."
   ]
  },
  {
   "cell_type": "markdown",
   "metadata": {},
   "source": [
    "## Triển khai mô hình"
   ]
  },
  {
   "cell_type": "markdown",
   "metadata": {},
   "source": [
    "Sau khi đã tìm được mô hình tốt nhất, chúng tôi sẽ sử dụng mô hình tốt nhất để gợi ý sách cho người dùng kết hợp với tập to_read.csv."
   ]
  },
  {
   "cell_type": "markdown",
   "metadata": {},
   "source": [
    "Chúng tôi sẽ tạo n đề xuất cho tất cả người dùng (với n=10). Trong đây cũng có thể đề xuất những cuốn sách mà người dùng đã đọc. Chúng tôi sẽ lọc ra ở các bước tiếp theo."
   ]
  },
  {
   "cell_type": "code",
   "execution_count": 40,
   "metadata": {},
   "outputs": [
    {
     "name": "stdout",
     "output_type": "stream",
     "text": [
      "+-------+--------------------+\n",
      "|user_id|     recommendations|\n",
      "+-------+--------------------+\n",
      "|    148|[[9842, 4.4344187...|\n",
      "|    463|[[9531, 4.4544363...|\n",
      "|    471|[[9842, 3.6001418...|\n",
      "|    496|[[6902, 4.779125]...|\n",
      "|    833|[[9842, 4.4773254...|\n",
      "|   1088|[[6590, 4.4429903...|\n",
      "|   1238|[[9531, 5.088133]...|\n",
      "|   1342|[[4868, 4.4561067...|\n",
      "|   1580|[[6590, 4.8356867...|\n",
      "|   1591|[[4868, 3.4241772...|\n",
      "+-------+--------------------+\n",
      "only showing top 10 rows\n",
      "\n"
     ]
    }
   ],
   "source": [
    "# Tạo n đề xuất cho tất cả người dùng\n",
    "ALS_recommendations = final_model.recommendForAllUsers(numItems = 10) # n = 10\n",
    "ALS_recommendations.show(n = 10)"
   ]
  },
  {
   "cell_type": "markdown",
   "metadata": {},
   "source": [
    "Chuyển đổi đầu ra thành user_id, book_id, prediction cho dễ dàng quan sát."
   ]
  },
  {
   "cell_type": "code",
   "execution_count": 44,
   "metadata": {},
   "outputs": [
    {
     "name": "stdout",
     "output_type": "stream",
     "text": [
      "+-------+-------+----------+\n",
      "|user_id|book_id|prediction|\n",
      "+-------+-------+----------+\n",
      "|    148|   9842| 4.4344187|\n",
      "|    148|   5207| 4.3260894|\n",
      "|    148|   4868|  4.310271|\n",
      "|    148|   6920|  4.300663|\n",
      "|    148|   3491| 4.2974644|\n",
      "|    148|   9076|  4.295326|\n",
      "|    148|   6590|  4.263487|\n",
      "|    148|   9566|  4.263332|\n",
      "|    148|   3885| 4.2625923|\n",
      "|    148|   4483|  4.256458|\n",
      "|    463|   9531| 4.4544363|\n",
      "|    463|   8109|  4.412524|\n",
      "|    463|   6920|  4.376691|\n",
      "|    463|   5580| 4.3218427|\n",
      "|    463|   6590| 4.3171372|\n",
      "|    463|   7254|  4.307837|\n",
      "|    463|   5207|  4.289475|\n",
      "|    463|   8415| 4.2812295|\n",
      "|    463|   9566|  4.280412|\n",
      "|    463|   1788|   4.23633|\n",
      "+-------+-------+----------+\n",
      "only showing top 20 rows\n",
      "\n"
     ]
    }
   ],
   "source": [
    "# Chuyển đổi đầu ra thành user_id, book_id, prediction\n",
    "ALS_recommendations.registerTempTable(\"ALS_recs_temp\")\n",
    "\n",
    "clean_recs = spark.sql(\"\"\"SELECT user_id,\n",
    "                            bookIds_and_ratings.book_id AS book_id,\n",
    "                            bookIds_and_ratings.rating AS prediction\n",
    "                        FROM ALS_recs_temp\n",
    "                        LATERAL VIEW explode(recommendations) exploded_table\n",
    "                            AS bookIds_and_ratings\"\"\")\n",
    "clean_recs.show()"
   ]
  },
  {
   "cell_type": "markdown",
   "metadata": {},
   "source": [
    "Tiếp theo chúng tôi sẽ tìm những cuốn sách chưa được đọc và đếm xem có bao nhiêu cuốn."
   ]
  },
  {
   "cell_type": "code",
   "execution_count": 45,
   "metadata": {},
   "outputs": [
    {
     "name": "stdout",
     "output_type": "stream",
     "text": [
      "+-------+-------+----------+------+\n",
      "|user_id|book_id|prediction|rating|\n",
      "+-------+-------+----------+------+\n",
      "|     20|   7063|  4.861883|  null|\n",
      "|     31|   1788| 3.7420979|  null|\n",
      "|     31|   6590| 3.7460775|  null|\n",
      "|     35|    862| 3.6461272|  null|\n",
      "|     53|   8580| 3.3309677|  null|\n",
      "|     54|   3628|  4.191738|  null|\n",
      "|     55|   7910| 3.8336086|  null|\n",
      "|     78|   8253|   2.43172|  null|\n",
      "|    103|   6590| 3.8811398|  null|\n",
      "|    132|   6590| 5.2160845|  null|\n",
      "|    152|   6590|  4.878297|  null|\n",
      "|    200|   7537| 4.2685437|  null|\n",
      "|    264|   9123|  4.264239|  null|\n",
      "|    280|   5207|  4.589646|  null|\n",
      "|    281|   9067| 3.7224245|  null|\n",
      "|    283|   4721| 3.9074273|  null|\n",
      "|    325|    862| 4.3510556|  null|\n",
      "|    326|   7593| 4.3583555|  null|\n",
      "|    329|   5207| 4.4639506|  null|\n",
      "|    334|   6902| 2.9111981|  null|\n",
      "+-------+-------+----------+------+\n",
      "only showing top 20 rows\n",
      "\n"
     ]
    }
   ],
   "source": [
    "# Đề xuất những cuốn sách chưa đọc\n",
    "(clean_recs.join(ratings, [\"user_id\", \"book_id\"], \"left\")\n",
    "    .filter(ratings.rating.isNull()).show())"
   ]
  },
  {
   "cell_type": "code",
   "execution_count": 46,
   "metadata": {},
   "outputs": [
    {
     "name": "stdout",
     "output_type": "stream",
     "text": [
      "526957\n"
     ]
    }
   ],
   "source": [
    "# Đếm xem tổng cộng có bao nhiêu sách chưa có ratings\n",
    "new_books = (clean_recs.join(ratings, [\"user_id\", \"book_id\"], \"left\")\n",
    "    .filter(ratings.rating.isNull()))\n",
    "print(new_books.count())"
   ]
  },
  {
   "cell_type": "markdown",
   "metadata": {},
   "source": [
    "Sau đó chúng tôi nối bảng những cuốn sách chưa có ratings (nhiều users khác nhau đánh giá) với tập to_read.csv. Bảng này lưu trữ những thông tin về các cuốn sách mà người dùng đã đánh dấu “Tôi muốn đọc”, nghĩa là người dùng có khả năng thích và đánh giá cao cho cuốn sách đó."
   ]
  },
  {
   "cell_type": "code",
   "execution_count": 48,
   "metadata": {},
   "outputs": [
    {
     "name": "stdout",
     "output_type": "stream",
     "text": [
      "+-------+-------+----------+------+-------+\n",
      "|user_id|book_id|prediction|rating|to_read|\n",
      "+-------+-------+----------+------+-------+\n",
      "|     20|   7063|  4.861883|  null|   null|\n",
      "|     31|   1788| 3.7420979|  null|   null|\n",
      "|     31|   6590| 3.7460775|  null|   null|\n",
      "|     35|    862| 3.6461272|  null|   null|\n",
      "|     53|   8580| 3.3309677|  null|   null|\n",
      "|     54|   3628|  4.191738|  null|   null|\n",
      "|     55|   7910| 3.8336086|  null|   null|\n",
      "|     78|   8253|   2.43172|  null|   null|\n",
      "|    103|   6590| 3.8811398|  null|   null|\n",
      "|    132|   6590| 5.2160845|  null|   null|\n",
      "|    152|   6590|  4.878297|  null|   null|\n",
      "|    200|   7537| 4.2685437|  null|   null|\n",
      "|    264|   9123|  4.264239|  null|   null|\n",
      "|    280|   5207|  4.589646|  null|   null|\n",
      "|    281|   9067| 3.7224245|  null|   null|\n",
      "|    283|   4721| 3.9074273|  null|   null|\n",
      "|    325|    862| 4.3510556|  null|   null|\n",
      "|    326|   7593| 4.3583555|  null|   null|\n",
      "|    329|   5207| 4.4639506|  null|   null|\n",
      "|    334|   6902| 2.9111981|  null|   null|\n",
      "+-------+-------+----------+------+-------+\n",
      "only showing top 20 rows\n",
      "\n",
      "None\n"
     ]
    }
   ],
   "source": [
    "# Join những cuốn sách chưa có ratings với tập to_read.csv\n",
    "recommendations = new_books.join(to_read.withColumn('to_read', lit(1)), \n",
    "                              on = [\"user_id\", \"book_id\"], \n",
    "                              how = \"left\")\n",
    "print(recommendations.show())"
   ]
  },
  {
   "cell_type": "markdown",
   "metadata": {},
   "source": [
    "Kiểm tra xem là có bao nhiêu cuốn sách nằm trong tập to_read.csv"
   ]
  },
  {
   "cell_type": "code",
   "execution_count": 49,
   "metadata": {},
   "outputs": [
    {
     "name": "stdout",
     "output_type": "stream",
     "text": [
      "+-------+------+\n",
      "|to_read| count|\n",
      "+-------+------+\n",
      "|   null|525777|\n",
      "|      1|  1180|\n",
      "+-------+------+\n",
      "\n"
     ]
    }
   ],
   "source": [
    "(recommendations\n",
    "     .groupby('to_read')\n",
    "     .count()\n",
    "     .show())"
   ]
  },
  {
   "cell_type": "markdown",
   "metadata": {},
   "source": [
    "Ta nhận thấy chỉ có 1180 cuốn sách được người dùng đánh dấu là “Tôi muốn đọc” , ta sẽ đánh giá những cuốn sách này. Giả thuyết đặt ra là trung bình xếp hạng sẽ cao, vì người dùng đã muốn đọc từ trước."
   ]
  },
  {
   "cell_type": "markdown",
   "metadata": {},
   "source": [
    "Ta xử lý đầu ra dưới dạng bảng với các cột: user_id, book_id, prediction, to_read thể hiện giá trị dự đoán của một người dùng lên cuốn sách đã đánh dấu là “Tôi muốn đọc”."
   ]
  },
  {
   "cell_type": "code",
   "execution_count": 50,
   "metadata": {},
   "outputs": [
    {
     "name": "stdout",
     "output_type": "stream",
     "text": [
      "+-------+-------+----------+-------+\n",
      "|user_id|book_id|prediction|to_read|\n",
      "+-------+-------+----------+-------+\n",
      "|  29212|    562|   4.90353|      1|\n",
      "|  33454|   1568|  4.677004|      1|\n",
      "|  41891|   3628| 5.0178556|      1|\n",
      "|  18149|   7275| 3.9924896|      1|\n",
      "|  30947|   1338|  5.319868|      1|\n",
      "|  34876|   9842|  4.886486|      1|\n",
      "|  42271|    862| 5.0453444|      1|\n",
      "|  52844|   2236| 3.8458447|      1|\n",
      "|   1394|   3885| 4.5630035|      1|\n",
      "|  23857|   7593|  4.983957|      1|\n",
      "|  24025|   8521| 3.4669182|      1|\n",
      "|  36806|   3628|  4.951229|      1|\n",
      "|  43590|   9570| 3.6903286|      1|\n",
      "|  51037|   1308| 3.9853904|      1|\n",
      "|  18516|    192|  3.932479|      1|\n",
      "|  41832|    862|  4.664405|      1|\n",
      "|  45483|   6902|  4.163578|      1|\n",
      "|  16062|   9294| 3.9472816|      1|\n",
      "|  16212|   9569|  4.548699|      1|\n",
      "|  19783|   6963| 3.6460238|      1|\n",
      "+-------+-------+----------+-------+\n",
      "only showing top 20 rows\n",
      "\n"
     ]
    }
   ],
   "source": [
    "(recommendations\n",
    "     .filter(recommendations.to_read.isNotNull())\n",
    "     .select(['user_id', 'book_id', 'prediction','to_read'])\n",
    "     .show())"
   ]
  },
  {
   "cell_type": "code",
   "execution_count": 51,
   "metadata": {},
   "outputs": [
    {
     "name": "stdout",
     "output_type": "stream",
     "text": [
      "+-------+-------+----------+-------+\n",
      "|user_id|book_id|prediction|to_read|\n",
      "+-------+-------+----------+-------+\n",
      "|  29212|    562|   4.90353|      1|\n",
      "|  33454|   1568|  4.677004|      1|\n",
      "|  41891|   3628| 5.0178556|      1|\n",
      "|  18149|   7275| 3.9924896|      1|\n",
      "|  30947|   1338|  5.319868|      1|\n",
      "+-------+-------+----------+-------+\n",
      "only showing top 5 rows\n",
      "\n"
     ]
    }
   ],
   "source": [
    "to_read_recs = (recommendations\n",
    "     .filter(recommendations.to_read.isNotNull())\n",
    "     .select(['user_id', 'book_id', 'prediction','to_read']))\n",
    "to_read_recs.show(n = 5)"
   ]
  },
  {
   "cell_type": "markdown",
   "metadata": {},
   "source": [
    "Cuối cùng ta sẽ in ra xem thang điểm đánh giá 1180 cuốn sách trong to_read.csv. Hầu hết các cuốn sách đều nằm trong khoảng đánh giá từ 3-4 sao, cho thấy người dùng đều thích các cuốn sách mình đá đánh dấu trước đó. Qua đó cho thấy mô hình hoạt động tốt."
   ]
  },
  {
   "cell_type": "code",
   "execution_count": 52,
   "metadata": {},
   "outputs": [
    {
     "name": "stdout",
     "output_type": "stream",
     "text": [
      "+----------+-----+\n",
      "|pred_trunc|count|\n",
      "+----------+-----+\n",
      "|         1|    6|\n",
      "|         2|   30|\n",
      "|         3|  251|\n",
      "|         4|  695|\n",
      "|         5|  194|\n",
      "|         6|    4|\n",
      "+----------+-----+\n",
      "\n"
     ]
    }
   ],
   "source": [
    "(to_read_recs\n",
    "     .withColumn('pred_trunc', to_read_recs.prediction.substr(1,1))\n",
    "     .groupby('pred_trunc')\n",
    "     .count()\n",
    "     .sort('pred_trunc')\n",
    "    .show())"
   ]
  },
  {
   "cell_type": "markdown",
   "metadata": {},
   "source": [
    "## Một số đề xuất cụ thể cho người dùng và sách"
   ]
  },
  {
   "cell_type": "markdown",
   "metadata": {},
   "source": [
    "Đầu tiên chúng tôi load tập dữ liệu book.csv vào dataframe."
   ]
  },
  {
   "cell_type": "code",
   "execution_count": 54,
   "metadata": {},
   "outputs": [
    {
     "name": "stdout",
     "output_type": "stream",
     "text": [
      "root\n",
      " |-- id: integer (nullable = true)\n",
      " |-- book_id: integer (nullable = true)\n",
      " |-- best_book_id: integer (nullable = true)\n",
      " |-- work_id: integer (nullable = true)\n",
      " |-- books_count: integer (nullable = true)\n",
      " |-- isbn: string (nullable = true)\n",
      " |-- isbn13: double (nullable = true)\n",
      " |-- authors: string (nullable = true)\n",
      " |-- original_publication_year: double (nullable = true)\n",
      " |-- original_title: string (nullable = true)\n",
      " |-- title: string (nullable = true)\n",
      " |-- language_code: string (nullable = true)\n",
      " |-- average_rating: string (nullable = true)\n",
      " |-- ratings_count: string (nullable = true)\n",
      " |-- work_ratings_count: string (nullable = true)\n",
      " |-- work_text_reviews_count: string (nullable = true)\n",
      " |-- ratings_1: double (nullable = true)\n",
      " |-- ratings_2: integer (nullable = true)\n",
      " |-- ratings_3: integer (nullable = true)\n",
      " |-- ratings_4: integer (nullable = true)\n",
      " |-- ratings_5: integer (nullable = true)\n",
      " |-- image_url: string (nullable = true)\n",
      " |-- small_image_url: string (nullable = true)\n",
      "\n"
     ]
    }
   ],
   "source": [
    "books = spark.read.csv('D:\\MLFINAL/books.csv',\n",
    "                         header = True,\n",
    "                         inferSchema=True)\n",
    "books.printSchema()"
   ]
  },
  {
   "cell_type": "markdown",
   "metadata": {},
   "source": [
    "Sử dụng lại mô hình ALS tốt nhất"
   ]
  },
  {
   "cell_type": "code",
   "execution_count": 55,
   "metadata": {},
   "outputs": [
    {
     "name": "stdout",
     "output_type": "stream",
     "text": [
      "Root-mean-square error = 0.8725672296920765\n"
     ]
    }
   ],
   "source": [
    "# Xây dựng mô hình ALS, tinh chỉnh các siêu tham số lần 4\n",
    "final_als = ALS(maxIter=10, regParam=0.2, rank=4, userCol=\"user_id\", itemCol=\"book_id\", ratingCol=\"rating\")\n",
    "final_model = final_als.fit(train)\n",
    "final_predictions = final_model.transform(test)\n",
    "final_new_predictions = final_predictions.filter(col('prediction') != np.nan)\n",
    "final_evaluator = RegressionEvaluator(metricName=\"rmse\", labelCol=\"rating\", predictionCol=\"prediction\")\n",
    "rmse = final_evaluator.evaluate(final_new_predictions)\n",
    "print(\"Root-mean-square error = \" + str(rmse))"
   ]
  },
  {
   "cell_type": "markdown",
   "metadata": {},
   "source": [
    "Kết hợp với books.csv để view ra id người đọc, tên cuốn sách và số điểm dự đoán."
   ]
  },
  {
   "cell_type": "code",
   "execution_count": 56,
   "metadata": {},
   "outputs": [
    {
     "name": "stdout",
     "output_type": "stream",
     "text": [
      "+-------+----------+----------+\n",
      "|user_id|     title|prediction|\n",
      "+-------+----------+----------+\n",
      "|   6213|Lysistrata|  2.816645|\n",
      "|  27745|Lysistrata| 3.6269598|\n",
      "|  11326|Lysistrata|  4.085428|\n",
      "|  12466|Lysistrata|  3.644628|\n",
      "|  52425|Lysistrata| 3.1227784|\n",
      "+-------+----------+----------+\n",
      "only showing top 5 rows\n",
      "\n"
     ]
    }
   ],
   "source": [
    "final_predictions.join(books, \"book_id\").select(\"user_id\",\"title\",\"prediction\").show(5)"
   ]
  },
  {
   "cell_type": "markdown",
   "metadata": {},
   "source": [
    "Tạo đề xuất cho một người dùng cụ thể, ở đây chúng tôi chọn user_id=35982."
   ]
  },
  {
   "cell_type": "code",
   "execution_count": 57,
   "metadata": {},
   "outputs": [
    {
     "data": {
      "text/plain": [
       "6"
      ]
     },
     "execution_count": 57,
     "metadata": {},
     "output_type": "execute_result"
    },
    {
     "name": "stdout",
     "output_type": "stream",
     "text": [
      "+-------+--------------------+--------------------+----------+\n",
      "|user_id|               title|           image_url|prediction|\n",
      "+-------+--------------------+--------------------+----------+\n",
      "|  35982|Another Bullshit ...|https://s.gr-asse...| 3.7899556|\n",
      "|  35982|The Door Into Summer|https://images.gr...| 3.1902225|\n",
      "|  35982|City of Glass (Th...|https://images.gr...| 3.7808537|\n",
      "|  35982|       Metamorphoses|https://s.gr-asse...|  3.898744|\n",
      "|  35982|           The Lover|https://images.gr...| 3.4095907|\n",
      "|  35982|The Lord of the R...|https://s.gr-asse...| 3.8616562|\n",
      "+-------+--------------------+--------------------+----------+\n",
      "\n"
     ]
    }
   ],
   "source": [
    "for_one_user = predictions.filter(col(\"user_id\")==35982).join(books_df, \"book_id\").select(\"user_id\",\"title\",\"image_url\",\"prediction\")\n",
    "for_one_user.count()\n",
    "for_one_user.show()"
   ]
  },
  {
   "cell_type": "code",
   "execution_count": 59,
   "metadata": {},
   "outputs": [],
   "source": [
    "from IPython.display import Image\n",
    "from IPython.display import display"
   ]
  },
  {
   "cell_type": "markdown",
   "metadata": {},
   "source": [
    "In ra bìa các cuốn sách đề xuất."
   ]
  },
  {
   "cell_type": "code",
   "execution_count": 61,
   "metadata": {},
   "outputs": [
    {
     "name": "stdout",
     "output_type": "stream",
     "text": [
      "Another Bullshit Night in Suck City\n"
     ]
    },
    {
     "data": {
      "text/html": [
       "<img src=\"https://s.gr-assets.com/assets/nophoto/book/111x148-bcc042a9c91a29c1d680899eff700a03.png\"/>"
      ],
      "text/plain": [
       "<IPython.core.display.Image object>"
      ]
     },
     "metadata": {},
     "output_type": "display_data"
    },
    {
     "name": "stdout",
     "output_type": "stream",
     "text": [
      "The Door Into Summer\n"
     ]
    },
    {
     "data": {
      "text/html": [
       "<img src=\"https://images.gr-assets.com/books/1342241886m/348.jpg\"/>"
      ],
      "text/plain": [
       "<IPython.core.display.Image object>"
      ]
     },
     "metadata": {},
     "output_type": "display_data"
    },
    {
     "name": "stdout",
     "output_type": "stream",
     "text": [
      "City of Glass (The New York Trilogy, #1)\n"
     ]
    },
    {
     "data": {
      "text/html": [
       "<img src=\"https://images.gr-assets.com/books/1309986722m/432.jpg\"/>"
      ],
      "text/plain": [
       "<IPython.core.display.Image object>"
      ]
     },
     "metadata": {},
     "output_type": "display_data"
    },
    {
     "name": "stdout",
     "output_type": "stream",
     "text": [
      "Metamorphoses\n"
     ]
    },
    {
     "data": {
      "text/html": [
       "<img src=\"https://s.gr-assets.com/assets/nophoto/book/111x148-bcc042a9c91a29c1d680899eff700a03.png\"/>"
      ],
      "text/plain": [
       "<IPython.core.display.Image object>"
      ]
     },
     "metadata": {},
     "output_type": "display_data"
    },
    {
     "name": "stdout",
     "output_type": "stream",
     "text": [
      "The Lover\n"
     ]
    },
    {
     "data": {
      "text/html": [
       "<img src=\"https://images.gr-assets.com/books/1423329337m/275.jpg\"/>"
      ],
      "text/plain": [
       "<IPython.core.display.Image object>"
      ]
     },
     "metadata": {},
     "output_type": "display_data"
    },
    {
     "name": "stdout",
     "output_type": "stream",
     "text": [
      "The Lord of the Rings: Weapons and Warfare\n"
     ]
    },
    {
     "data": {
      "text/html": [
       "<img src=\"https://s.gr-assets.com/assets/nophoto/book/111x148-bcc042a9c91a29c1d680899eff700a03.png\"/>"
      ],
      "text/plain": [
       "<IPython.core.display.Image object>"
      ]
     },
     "metadata": {},
     "output_type": "display_data"
    }
   ],
   "source": [
    "for book in for_one_user.take(10):\n",
    "    print(book.title)\n",
    "    display(Image(url=book.image_url))"
   ]
  },
  {
   "cell_type": "markdown",
   "metadata": {},
   "source": [
    "Tạo 5 đề xuất sách hàng đầu cho mỗi người dùng và 5 đề xuất người dùng hàng đầu cho mỗi cuốn sách."
   ]
  },
  {
   "cell_type": "code",
   "execution_count": 62,
   "metadata": {},
   "outputs": [],
   "source": [
    "#Tạo 5 đề xuất sách hàng đầu cho mỗi người dùng\n",
    "userRecomments = final_model.recommendForAllUsers(5)\n",
    "#Tạo 5 đề xuất người dùng hàng đầu cho mỗi cuốn sách\n",
    "bookRecomments = final_model.recommendForAllItems(5)"
   ]
  },
  {
   "cell_type": "code",
   "execution_count": 63,
   "metadata": {},
   "outputs": [
    {
     "name": "stdout",
     "output_type": "stream",
     "text": [
      "+-------+------------------------------+\n",
      "|user_id|book_id                       |\n",
      "+-------+------------------------------+\n",
      "|148    |[9842, 5207, 4868, 6920, 3491]|\n",
      "|463    |[9531, 8109, 6920, 5580, 6590]|\n",
      "|471    |[9842, 4778, 2636, 8521, 8926]|\n",
      "|496    |[6902, 8854, 9531, 562, 2236] |\n",
      "|833    |[9842, 9531, 9569, 1308, 7275]|\n",
      "|1088   |[6590, 5207, 9566, 1788, 6920]|\n",
      "|1238   |[9531, 6902, 1308, 6963, 8548]|\n",
      "|1342   |[4868, 8187, 7844, 862, 3628] |\n",
      "|1580   |[6590, 5207, 6920, 1788, 862] |\n",
      "|1591   |[4868, 8926, 8854, 3885, 3491]|\n",
      "+-------+------------------------------+\n",
      "only showing top 10 rows\n",
      "\n"
     ]
    }
   ],
   "source": [
    "userRecomments.select(\"user_id\",\"recommendations.book_id\").show(10,False)"
   ]
  },
  {
   "cell_type": "code",
   "execution_count": 64,
   "metadata": {},
   "outputs": [
    {
     "name": "stdout",
     "output_type": "stream",
     "text": [
      "+-------+-----------------------------------+\n",
      "|book_id|user_id                            |\n",
      "+-------+-----------------------------------+\n",
      "|1580   |[48681, 43252, 14211, 9448, 46064] |\n",
      "|4900   |[38723, 15449, 9448, 33923, 49360] |\n",
      "|5300   |[28724, 38723, 21791, 19698, 16505]|\n",
      "|6620   |[43252, 48681, 14211, 21347, 33143]|\n",
      "|7240   |[38723, 9448, 46796, 49360, 51626] |\n",
      "|7340   |[43252, 48681, 38723, 9448, 14211] |\n",
      "|7880   |[38723, 48681, 43252, 9448, 48274] |\n",
      "|9900   |[48681, 43252, 30440, 14211, 42106]|\n",
      "|471    |[48681, 43252, 38723, 9448, 48274] |\n",
      "|1591   |[48681, 43252, 14211, 9448, 46064] |\n",
      "+-------+-----------------------------------+\n",
      "only showing top 10 rows\n",
      "\n"
     ]
    }
   ],
   "source": [
    "bookRecomments.select(\"book_id\",\"recommendations.user_id\").show(10,False)"
   ]
  },
  {
   "cell_type": "markdown",
   "metadata": {},
   "source": [
    "Tạo 10 đề xuất hàng đầu cho người dùng cụ thể và 10 đề xuất hàng đầu cho cuốn sách cụ thể."
   ]
  },
  {
   "cell_type": "code",
   "execution_count": 67,
   "metadata": {},
   "outputs": [
    {
     "name": "stdout",
     "output_type": "stream",
     "text": [
      "+-------+------------------------------------------------------------+\n",
      "|user_id|book_id                                                     |\n",
      "+-------+------------------------------------------------------------+\n",
      "|32592  |[6920, 6902, 5207, 9076, 4868, 9531, 6590, 862, 4483, 3753] |\n",
      "|35982  |[1788, 6590, 3628, 5207, 9566, 5580, 6920, 7254, 7844, 7593]|\n",
      "|19984  |[6902, 9531, 1308, 6920, 9076, 5207, 3753, 4868, 8926, 8854]|\n",
      "|1088   |[6590, 5207, 9566, 1788, 6920, 7254, 3628, 5580, 8109, 9076]|\n",
      "|3918   |[6590, 5207, 9566, 1788, 7254, 6920, 3628, 5580, 8109, 9076]|\n",
      "+-------+------------------------------------------------------------+\n",
      "\n"
     ]
    }
   ],
   "source": [
    "#Tạo 10 đề xuất hàng đầu cho người dùng cụ thể\n",
    "users = ratings.select(\"user_id\").distinct().limit(5);\n",
    "userSubsetRecs = final_model.recommendForUserSubset(users, 10)\n",
    "userSubsetRecs.select(\"user_id\",\"recommendations.book_id\").show(10,False)"
   ]
  },
  {
   "cell_type": "code",
   "execution_count": 70,
   "metadata": {},
   "outputs": [
    {
     "name": "stdout",
     "output_type": "stream",
     "text": [
      "+-------+---------------------------------------------------------------------+\n",
      "|book_id|user_id                                                              |\n",
      "+-------+---------------------------------------------------------------------+\n",
      "|471    |[48681, 43252, 38723, 9448, 48274, 27079, 43544, 33923, 38866, 14211]|\n",
      "|463    |[38723, 15449, 9448, 33923, 11193, 51739, 48274, 13033, 7172, 50307] |\n",
      "|833    |[38723, 43252, 48681, 9448, 15449, 33923, 48274, 11193, 7172, 43544] |\n",
      "|496    |[48681, 43252, 9448, 38723, 33923, 48274, 46796, 15449, 27079, 17128]|\n",
      "|148    |[43252, 48681, 38723, 9448, 48274, 27079, 46796, 33923, 15449, 38866]|\n",
      "+-------+---------------------------------------------------------------------+\n",
      "\n"
     ]
    }
   ],
   "source": [
    "#Tạo 10 đề xuất hàng đầu cho cuốn sách cụ thể\n",
    "books = ratings.select(\"book_id\").distinct().limit(5);\n",
    "bookSubsetRecs = final_model.recommendForItemSubset(books, 10)\n",
    "bookSubsetRecs.select(\"book_id\",\"recommendations.user_id\").show(10,False)"
   ]
  }
 ],
 "metadata": {
  "kernelspec": {
   "display_name": "Python 3",
   "language": "python",
   "name": "python3"
  },
  "language_info": {
   "codemirror_mode": {
    "name": "ipython",
    "version": 3
   },
   "file_extension": ".py",
   "mimetype": "text/x-python",
   "name": "python",
   "nbconvert_exporter": "python",
   "pygments_lexer": "ipython3",
   "version": "3.8.3"
  },
  "toc": {
   "base_numbering": 1,
   "nav_menu": {},
   "number_sections": true,
   "sideBar": true,
   "skip_h1_title": true,
   "title_cell": "MỤC LỤC",
   "title_sidebar": "Contents",
   "toc_cell": true,
   "toc_position": {},
   "toc_section_display": true,
   "toc_window_display": true
  }
 },
 "nbformat": 4,
 "nbformat_minor": 4
}
